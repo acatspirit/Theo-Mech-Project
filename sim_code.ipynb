{
 "cells": [
  {
   "cell_type": "code",
   "execution_count": 3,
   "id": "03da9b83",
   "metadata": {},
   "outputs": [],
   "source": [
    "import matplotlib.pyplot as plt\n",
    "from math import tanh\n",
    "from scipy.integrate import solve_ivp\n",
    "import numpy as np"
   ]
  },
  {
   "cell_type": "markdown",
   "id": "06587976",
   "metadata": {},
   "source": [
    "### Dimensionless DE and system\n",
    "For attractive potential $U(r) = \\frac{\\alpha}{r} + \\beta r^n$, we get a reduced dimensionless equation of motion. Let $t = \\frac{r_{0}^{2}\\mu}{l}\\tau$ and $r = \\frac{R}{r_0}$.\n",
    "$$\\frac{\\partial^2 R}{\\partial \\tau^2} = \\frac{1}{R^3} + \\alpha r_{0} \\left(\\frac{\\mu}{l}\\right)^2\\frac{1}{R^2} - n \\beta r_{0}^{n+2} \\left(\\frac{\\mu}{l}\\right)^2 R^{n-1}$$"
   ]
  },
  {
   "cell_type": "code",
   "execution_count": 4,
   "id": "86effc95",
   "metadata": {},
   "outputs": [],
   "source": [
    "# define constants\n",
    "r_0 = 5 # initial mass radius from the attractive mass\n",
    "mu = 10 # m1m2/(m1+m2) reduced mass of system\n",
    "l = 4 # initial angular momentum\n",
    "alpha = 5 # constant to mess with\n",
    "beta = 5 # constant to mess with\n",
    "n = 2 # the potential constant power"
   ]
  },
  {
   "cell_type": "markdown",
   "id": "c10423c3",
   "metadata": {},
   "source": [
    "### Numerically Solve the DE\n",
    "We need to numerically solve a system of linear ODEs:\n",
    "$$\\frac{\\partial R}{\\partial \\tau} = x$$ which we can plug into our DE:\n",
    "$$\\frac{\\partial x}{\\partial \\tau} = \\frac{1}{R^3} + \\alpha r_{0} \\left(\\frac{\\mu}{l}\\right)^2\\frac{1}{R^2} - n \\beta r_{0}^{n+2} \\left(\\frac{\\mu}{l}\\right)^2 R^{n-1}$$"
   ]
  },
  {
   "cell_type": "code",
   "execution_count": 12,
   "id": "530304cf",
   "metadata": {},
   "outputs": [],
   "source": [
    "# numerically solve DE\n",
    "# using this example from the University of Edinburgh, we can emulate the method:.\n",
    "# https://media.ed.ac.uk/media/Solving+Differential+Equations+in+PythonA+Higher+order+ODEs+with+solve_ivp/1_c8g7fwhw \n",
    "# First we write a function to return coupled derivatives\n",
    "\n",
    "def vdp_deriv(t,y):\n",
    "    \"\"\" The iterator function we pass in to define how our linear\n",
    "        system of ODE's is related, based on the markdown cell above.\n",
    "    \"\"\"\n",
    "    R = y[0]\n",
    "    x = y[1]\n",
    "    DE = R**(-3) + alpha*r_0*((mu/l)**2)*(R**(-2)) - n*beta*((r_0)**(n+2))*((mu/l)**2)*(R**(n-1))\n",
    "    return [x, DE]"
   ]
  },
  {
   "cell_type": "code",
   "execution_count": 13,
   "id": "70c62efa",
   "metadata": {},
   "outputs": [
    {
     "data": {
      "image/png": "[encoded data removed]",
      "text/plain": [
       "<Figure size 432x288 with 1 Axes>"
      ]
     },
     "metadata": {
      "needs_background": "light"
     },
     "output_type": "display_data"
    }
   ],
   "source": [
    "# Now we use the solve_ivp method from scipy to integrate with our relation\n",
    "\n",
    "t1 = np.linspace(0,-10, 1000)\n",
    "t2 = np.linspace(0,10, 1000)\n",
    "sol1 = solve_ivp(fun=vdp_deriv, t_span = [t1[0], t1[-1]], y0=[0.1,10], t_eval=t1)\n",
    "sol2 = solve_ivp(fun=vdp_deriv, t_span = [t2[0], t2[-1]], y0=[0.1,10], t_eval=t2)\n",
    "\n",
    "plt.subplots(1,1)\n",
    "plt.plot(sol1.t, sol1.y[0], 'b')\n",
    "plt.plot(sol2.t, sol2.y[0], 'b')\n",
    "plt.xlabel(\"tau\")\n",
    "plt.ylabel(\"R\")\n",
    "plt.show()"
   ]
  },
  {
   "cell_type": "code",
   "execution_count": null,
   "id": "0b0af9af",
   "metadata": {},
   "outputs": [],
   "source": []
  }
 ],
 "metadata": {
  "kernelspec": {
   "display_name": "Python 3",
   "language": "python",
   "name": "python3"
  },
  "language_info": {
   "codemirror_mode": {
    "name": "ipython",
    "version": 3
   },
   "file_extension": ".py",
   "mimetype": "text/x-python",
   "name": "python",
   "nbconvert_exporter": "python",
   "pygments_lexer": "ipython3",
   "version": "3.8.8"
  }
 },
 "nbformat": 4,
 "nbformat_minor": 5
}
